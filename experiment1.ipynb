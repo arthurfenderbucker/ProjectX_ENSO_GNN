{
 "cells": [
  {
   "cell_type": "code",
   "execution_count": 1,
   "metadata": {},
   "outputs": [],
   "source": [
    "import torch\n",
    "import torch.nn as nn\n",
    "from enso.hyperparams_and_args import get_argparser\n",
    "from ninolearn.IO.read_processed import data_reader\n",
    "\n",
    "from MTGNN_multi_channel.data_handler_single_index_CNN_data import IndexLoader\n",
    "from MTGNN.train_single_step import main, evaluate\n",
    "from enso.utils import read_ssta\n",
    "from enso.plotting import plot_time_series, heatmap_of_edges\n",
    "import warnings\n",
    "warnings.filterwarnings(action='once')"
   ]
  },
  {
   "cell_type": "code",
   "execution_count": 2,
   "metadata": {
    "pycharm": {
     "name": "#%%\n"
    }
   },
   "outputs": [
    {
     "name": "stderr",
     "output_type": "stream",
     "text": [
      "c:\\users\\salva\\programming\\anaconda3\\envs\\enso\\lib\\site-packages\\ipykernel\\ipkernel.py:287: DeprecationWarning: `should_run_async` will not call `transform_cell` automatically in the future. Please pass the result to `transformed_cell` argument and any exception that happen during thetransform in `preprocessing_exc_tuple` in IPython 7.17 and above.\n",
      "  and should_run_async(code)\n"
     ]
    }
   ],
   "source": [
    "TRANSFER = True\n",
    "ONLY_PLOT_EDGES = True\n",
    "data_dir = r'C:/Users/salva/OneDrive/Documentos/Projects/ProjectX/Data/'\n",
    "save_plots_to = r\"C:/Users/salva/OneDrive/Documentos/Projects/ProjectX/Plots/edges/E33\"  # choose None, to not save them\n",
    "save_plots_to = None"
   ]
  },
  {
   "cell_type": "code",
   "execution_count": 3,
   "metadata": {
    "pycharm": {
     "name": "#%%\n"
    }
   },
   "outputs": [],
   "source": [
    "train_dates=(\"1871-01\", \"1972-12\")\n",
    "val_dates=(\"1973-01\", \"1983-12\")\n",
    "test_dates=(\"1984-01\", \"2020-08\")\n",
    "parser = get_argparser(experiment=\"ERSSTv5\")\n",
    "args = parser.parse_args(\"\")\n",
    "args.data_dir = data_dir\n",
    "args.lon_min = 190\n",
    "args.lon_max = 240\n",
    "args.lat_min = -5\n",
    "args.lat_max = 5\n",
    "args.window = 3\n",
    "args.epochs = 50\n",
    "args.layers = 2\n",
    "args.prelu = True"
   ]
  },
  {
   "cell_type": "code",
   "execution_count": 5,
   "metadata": {
    "pycharm": {
     "name": "#%%\n"
    }
   },
   "outputs": [],
   "source": [
    "def train_exp1(args, reader):\n",
    "    print(f\"#Lead months = {args.horizon}, #layers = {args.layers}, Inputs between \"\n",
    "      f\"{args.lat_min} to {args.lat_max} latitude and {args.lon_min} to {args.lon_max} longitude \"\n",
    "      f\"for the past {args.window} months\")\n",
    "\n",
    "    flattened_ssta, train_mask = read_ssta(index=args.index, get_mask=True, resolution=args.resolution, reader=reader)\n",
    "    args.mask = train_mask\n",
    "\n",
    "    print(\"Model will be saved in\", args.save)\n",
    "    main(args, adj=None, train_dates=train_dates, val_dates=val_dates, test_dates=test_dates)  # learn edges"
   ]
  },
  {
   "cell_type": "code",
   "execution_count": 6,
   "metadata": {
    "pycharm": {
     "name": "#%%\n"
    }
   },
   "outputs": [],
   "source": [
    "def eval_model(args, test_set=\"ERSSTv5\"):\n",
    "    model = torch.load(args.save)\n",
    "    model.eval()\n",
    "\n",
    "    evaluateL2 = nn.MSELoss().to(args.device)\n",
    "    evaluateL1 = nn.L1Loss().to(args.device)\n",
    "\n",
    "    Data = IndexLoader(args, test_set=test_set, start_date=\"1984-01\", end_date=\"2020-08\", data_dir=data_dir)\n",
    "    test_acc, test_rae, test_corr, oni_test_stats, preds, Ytrue = evaluate(Data, Data.test[0], Data.test[1],\n",
    "                                                                           model,evaluateL2, evaluateL1, args,\n",
    "                                                                           return_oni_preds=True)\n",
    "    print(test_set, \" test stats... OVERALL: rse {:5.4f} , RMSE {:5.4f} , corr {:5.4f}\"\n",
    "                    \" | ONI:  RMSE {:5.4f} , corr {:5.4f}\"\n",
    "          .format(test_acc, test_rae, test_corr, oni_test_stats[\"RMSE\"], oni_test_stats[\"Corrcoef\"]))\n",
    "    return preds, Ytrue, Data.semantic_time_steps"
   ]
  },
  {
   "cell_type": "code",
   "execution_count": 7,
   "metadata": {
    "pycharm": {
     "name": "#%%\n"
    }
   },
   "outputs": [],
   "source": [
    "def train_and_eval(args):\n",
    "    reader = data_reader(startdate=args.start_date, enddate=args.end_date,\n",
    "                         lon_min=args.lon_min, lon_max=args.lon_max,\n",
    "                         lat_min=args.lat_min, lat_max=args.lat_max)\n",
    "\n",
    "    train_exp1(args, reader=reader)\n",
    "\n",
    "    ## Eval test scores\n",
    "    preds, Y, time_axis = eval_model(args, \"ERSSTv5\")\n",
    "    _, _, _ = eval_model(args, \"GODAS\")\n",
    "\n",
    "    ## Plot learned edges\n",
    "    heatmap_of_edges(file_path, args=args, reader=reader, index=args.index, min_weight=1e-4, data_dir=args.data_dir)\n",
    "\n",
    "\n",
    "    plot_time_series(Y, preds, time_steps=time_axis, labels=[\"ERSSTv5 ONI\", \"GNN Forecast\"],\n",
    "                     ylabel=f\"{args.index} index\",  save_to=None)\n"
   ]
  },
  {
   "cell_type": "code",
   "execution_count": null,
   "metadata": {
    "pycharm": {
     "name": "#%%\n"
    }
   },
   "outputs": [
    {
     "name": "stdout",
     "output_type": "stream",
     "text": [
      "#Lead months = 1, #layers = 2, Inputs between -5 to 5 latitude and 190 to 240 longitude for the past 3 months\n",
      "Model will be saved in ../model/\n",
      "Time series Length = 1222, Number of nodes = 33, Predict 1 time steps in advance using 3 time steps, Training set size = 1219  \n",
      "\n",
      "The receptive field size is 19\n",
      "Number of model parameters is 27969\n",
      "begin training\n",
      "--> Epoch   1 | time:  5.61s | train_loss 0.5047 | Val. loss 0.0356, corr 0.8565 | ONI corr 0.8606, RMSE 0.5125\n",
      "Model will be saved...\n",
      "--> Epoch   2 | time:  3.82s | train_loss 0.2103 | Val. loss 0.0268, corr 0.8916 | ONI corr 0.8941, RMSE 0.3738\n",
      "Model will be saved...\n",
      "--> Epoch   3 | time:  3.82s | train_loss 0.1282 | Val. loss 0.0208, corr 0.9420 | ONI corr 0.9468, RMSE 0.2824\n",
      "Model will be saved...\n",
      "--> Epoch   4 | time:  3.92s | train_loss 0.0833 | Val. loss 0.0166, corr 0.9635 | ONI corr 0.9704, RMSE 0.2170\n",
      "Model will be saved...\n",
      "--> Epoch   5 | time:  4.05s | train_loss 0.0645 | Val. loss 0.0147, corr 0.9708 | ONI corr 0.9778, RMSE 0.1860\n",
      "Model will be saved...\n",
      "-------> Test stats: rse 0.0143 | rae 0.0005 | corr 0.9653 | ONI corr 0.9714 | ONI RMSE 0.1916\n",
      "--> Epoch   6 | time:  3.88s | train_loss 0.0566 | Val. loss 0.0134, corr 0.9752 | ONI corr 0.9819, RMSE 0.1661\n",
      "Model will be saved...\n",
      "--> Epoch   7 | time:  3.89s | train_loss 0.0515 | Val. loss 0.0126, corr 0.9780 | ONI corr 0.9844, RMSE 0.1540\n",
      "Model will be saved...\n",
      "--> Epoch   8 | time:  3.97s | train_loss 0.0479 | Val. loss 0.0119, corr 0.9799 | ONI corr 0.9860, RMSE 0.1448\n",
      "Model will be saved...\n",
      "--> Epoch   9 | time:  8.68s | train_loss 0.0452 | Val. loss 0.0114, corr 0.9815 | ONI corr 0.9873, RMSE 0.1383\n",
      "Model will be saved...\n",
      "--> Epoch  10 | time:  8.93s | train_loss 0.0426 | Val. loss 0.0110, corr 0.9828 | ONI corr 0.9882, RMSE 0.1324\n",
      "Model will be saved...\n",
      "-------> Test stats: rse 0.0105 | rae 0.0004 | corr 0.9807 | ONI corr 0.9853 | ONI RMSE 0.1335\n",
      "--> Epoch  11 | time:  8.93s | train_loss 0.0409 | Val. loss 0.0107, corr 0.9836 | ONI corr 0.9888, RMSE 0.1284\n",
      "Model will be saved...\n",
      "--> Epoch  12 | time:  8.89s | train_loss 0.0398 | Val. loss 0.0104, corr 0.9843 | ONI corr 0.9894, RMSE 0.1244\n",
      "Model will be saved...\n",
      "--> Epoch  13 | time:  8.89s | train_loss 0.0384 | Val. loss 0.0101, corr 0.9852 | ONI corr 0.9900, RMSE 0.1213\n",
      "Model will be saved...\n",
      "--> Epoch  14 | time:  8.93s | train_loss 0.0371 | Val. loss 0.0099, corr 0.9857 | ONI corr 0.9904, RMSE 0.1190\n",
      "Model will be saved...\n",
      "--> Epoch  15 | time:  8.94s | train_loss 0.0362 | Val. loss 0.0097, corr 0.9863 | ONI corr 0.9907, RMSE 0.1154\n",
      "Model will be saved...\n",
      "-------> Test stats: rse 0.0093 | rae 0.0004 | corr 0.9847 | ONI corr 0.9885 | ONI RMSE 0.1163\n",
      "--> Epoch  16 | time:  8.92s | train_loss 0.0356 | Val. loss 0.0095, corr 0.9869 | ONI corr 0.9912, RMSE 0.1145\n",
      "Model will be saved...\n"
     ]
    }
   ],
   "source": [
    "args.horizon = 1\n",
    "args.epochs = 25\n",
    "train_and_eval(args)"
   ]
  }
 ],
 "metadata": {
  "kernelspec": {
   "display_name": "Python 3",
   "language": "python",
   "name": "python3"
  },
  "language_info": {
   "codemirror_mode": {
    "name": "ipython",
    "version": 3
   },
   "file_extension": ".py",
   "mimetype": "text/x-python",
   "name": "python",
   "nbconvert_exporter": "python",
   "pygments_lexer": "ipython3",
   "version": "3.7.6"
  }
 },
 "nbformat": 4,
 "nbformat_minor": 1
}