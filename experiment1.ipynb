{
 "cells": [
  {
   "cell_type": "code",
   "execution_count": 9,
   "metadata": {},
   "outputs": [
    {
     "name": "stderr",
     "output_type": "stream",
     "text": [
      "c:\\users\\salva\\programming\\anaconda3\\envs\\enso\\lib\\site-packages\\ipykernel\\ipkernel.py:287: DeprecationWarning: `should_run_async` will not call `transform_cell` automatically in the future. Please pass the result to `transformed_cell` argument and any exception that happen during thetransform in `preprocessing_exc_tuple` in IPython 7.17 and above.\n",
      "  and should_run_async(code)\n"
     ]
    }
   ],
   "source": [
    "import torch\n",
    "import torch.nn as nn\n",
    "from enso.hyperparams_and_args import get_argparser\n",
    "from ninolearn.IO.read_processed import data_reader\n",
    "\n",
    "from data_handling.data_handler_CNN_data import IndexLoader\n",
    "from GNN_exp1.train_single_step import main, evaluate\n",
    "from utils import read_ssta\n",
    "from plotting import plot_time_series, heatmap_of_edges\n",
    "import warnings\n",
    "warnings.filterwarnings(action='once')"
   ]
  },
  {
   "cell_type": "code",
   "execution_count": 10,
   "metadata": {
    "pycharm": {
     "name": "#%%\n"
    }
   },
   "outputs": [
    {
     "name": "stderr",
     "output_type": "stream",
     "text": [
      "c:\\users\\salva\\programming\\anaconda3\\envs\\enso\\lib\\site-packages\\ipykernel\\ipkernel.py:287: DeprecationWarning: `should_run_async` will not call `transform_cell` automatically in the future. Please pass the result to `transformed_cell` argument and any exception that happen during thetransform in `preprocessing_exc_tuple` in IPython 7.17 and above.\n",
      "  and should_run_async(code)\n"
     ]
    }
   ],
   "source": [
    "TRANSFER = True\n",
    "ONLY_PLOT_EDGES = True\n",
    "data_dir = r'C:/Users/salva/OneDrive/Documentos/Projects/ProjectX/Data/'\n",
    "save_plots_to = r\"C:/Users/salva/OneDrive/Documentos/Projects/ProjectX/Plots/edges/E33\"  # choose None, to not save them\n",
    "save_plots_to = None"
   ]
  },
  {
   "cell_type": "code",
   "execution_count": 11,
   "metadata": {
    "pycharm": {
     "name": "#%%\n"
    }
   },
   "outputs": [],
   "source": [
    "train_dates=(\"1871-01\", \"1972-12\")\n",
    "val_dates=(\"1973-01\", \"1983-12\")\n",
    "test_dates=(\"1984-01\", \"2020-08\")\n",
    "parser = get_argparser(experiment=\"ERSSTv5\")\n",
    "args = parser.parse_args(\"\")\n",
    "args.data_dir = data_dir\n",
    "args.lon_min = 190\n",
    "args.lon_max = 240\n",
    "args.lat_min = -5\n",
    "args.lat_max = 5\n",
    "args.window = 3\n",
    "args.epochs = 50\n",
    "args.layers = 2\n",
    "args.prelu = True\n",
    "args.save = \"models/exp1/\""
   ]
  },
  {
   "cell_type": "code",
   "execution_count": 12,
   "metadata": {
    "pycharm": {
     "name": "#%%\n"
    }
   },
   "outputs": [],
   "source": [
    "def train_exp1(args, reader):\n",
    "    print(f\"#Lead months = {args.horizon}, #layers = {args.layers}, Inputs between \"\n",
    "      f\"{args.lat_min} to {args.lat_max} latitude and {args.lon_min} to {args.lon_max} longitude \"\n",
    "      f\"for the past {args.window} months\")\n",
    "\n",
    "    flattened_ssta, train_mask = read_ssta(index=args.index, get_mask=True, resolution=args.resolution, reader=reader)\n",
    "    args.mask = train_mask\n",
    "\n",
    "    print(\"Model will be saved in\", args.save)\n",
    "    main(args, adj=None, train_dates=train_dates, val_dates=val_dates, test_dates=test_dates)  # learn edges"
   ]
  },
  {
   "cell_type": "code",
   "execution_count": 13,
   "metadata": {
    "pycharm": {
     "name": "#%%\n"
    }
   },
   "outputs": [],
   "source": [
    "def eval_model(args, test_set=\"ERSSTv5\"):\n",
    "    model = torch.load(args.save)\n",
    "    model.eval()\n",
    "\n",
    "    evaluateL2 = nn.MSELoss().to(args.device)\n",
    "    evaluateL1 = nn.L1Loss().to(args.device)\n",
    "\n",
    "    Data = IndexLoader(args, test_set=test_set, start_date=\"1984-01\", end_date=\"2020-08\", data_dir=data_dir)\n",
    "    test_acc, test_rae, test_corr, oni_test_stats, preds, Ytrue = evaluate(Data, Data.test[0], Data.test[1],\n",
    "                                                                           model,evaluateL2, evaluateL1, args,\n",
    "                                                                           return_oni_preds=True)\n",
    "    print(test_set, \" test stats... OVERALL: rse {:5.4f} , RMSE {:5.4f} , corr {:5.4f}\"\n",
    "                    \" | ONI:  RMSE {:5.4f} , corr {:5.4f}\"\n",
    "          .format(test_acc, test_rae, test_corr, oni_test_stats[\"RMSE\"], oni_test_stats[\"Corrcoef\"]))\n",
    "    return preds, Ytrue, Data.semantic_time_steps"
   ]
  },
  {
   "cell_type": "code",
   "execution_count": 14,
   "metadata": {
    "pycharm": {
     "name": "#%%\n"
    }
   },
   "outputs": [],
   "source": [
    "def train_and_eval(args):\n",
    "    reader = data_reader(startdate=args.start_date, enddate=args.end_date,\n",
    "                         lon_min=args.lon_min, lon_max=args.lon_max,\n",
    "                         lat_min=args.lat_min, lat_max=args.lat_max)\n",
    "\n",
    "    train_exp1(args, reader=reader)\n",
    "\n",
    "    ## Eval test scores\n",
    "    preds, Y, time_axis = eval_model(args, \"ERSSTv5\")\n",
    "    _, _, _ = eval_model(args, \"GODAS\")\n",
    "\n",
    "    ## Plot learned edges\n",
    "    heatmap_of_edges(file_path, args=args, reader=reader, index=args.index, min_weight=1e-4, data_dir=args.data_dir)\n",
    "\n",
    "\n",
    "    plot_time_series(Y, preds, time_steps=time_axis, labels=[\"ERSSTv5 ONI\", \"GNN Forecast\"],\n",
    "                     ylabel=f\"{args.index} index\",  save_to=None)\n"
   ]
  },
  {
   "cell_type": "code",
   "execution_count": null,
   "metadata": {
    "pycharm": {
     "name": "#%%\n",
     "is_executing": true
    }
   },
   "outputs": [
    {
     "name": "stdout",
     "output_type": "stream",
     "text": [
      "#Lead months = 1, #layers = 2, Inputs between -5 to 5 latitude and 190 to 240 longitude for the past 3 months\n",
      "Model will be saved in models/exp1/\n",
      "Time series Length = 1222, Number of nodes = 33, Predict 1 time steps in advance using 3 time steps, Training set size = 1219  \n",
      "\n",
      "The receptive field size is 19\n",
      "Number of model parameters is 27969\n",
      "begin training\n",
      "--> Epoch   1 | time:  3.96s | train_loss 0.6216 | Val. loss 0.0362, corr 0.9030 | ONI corr 0.9081, RMSE 0.5277\n",
      "Model will be saved...\n",
      "--> Epoch   2 | time:  3.89s | train_loss 0.1979 | Val. loss 0.0247, corr 0.9132 | ONI corr 0.9155, RMSE 0.3408\n",
      "Model will be saved...\n",
      "--> Epoch   3 | time:  3.89s | train_loss 0.1105 | Val. loss 0.0199, corr 0.9474 | ONI corr 0.9508, RMSE 0.2700\n",
      "Model will be saved...\n",
      "--> Epoch   4 | time:  3.89s | train_loss 0.0760 | Val. loss 0.0167, corr 0.9626 | ONI corr 0.9675, RMSE 0.2225\n",
      "Model will be saved...\n"
     ]
    }
   ],
   "source": [
    "args.horizon = 1\n",
    "args.epochs = 25\n",
    "train_and_eval(args)"
   ]
  }
 ],
 "metadata": {
  "kernelspec": {
   "display_name": "Python 3",
   "language": "python",
   "name": "python3"
  },
  "language_info": {
   "codemirror_mode": {
    "name": "ipython",
    "version": 3
   },
   "file_extension": ".py",
   "mimetype": "text/x-python",
   "name": "python",
   "nbconvert_exporter": "python",
   "pygments_lexer": "ipython3",
   "version": "3.7.6"
  }
 },
 "nbformat": 4,
 "nbformat_minor": 1
}